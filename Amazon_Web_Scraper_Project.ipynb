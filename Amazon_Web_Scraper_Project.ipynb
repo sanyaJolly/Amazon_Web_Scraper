{
  "nbformat": 4,
  "nbformat_minor": 2,
  "metadata": {
    "colab": {
      "name": "Amazon_Web_Scraper_Project .ipynb",
      "provenance": [],
      "collapsed_sections": []
    },
    "kernelspec": {
      "name": "python3",
      "display_name": "Python 3.9.5 64-bit"
    },
    "language_info": {
      "name": "python",
      "version": "3.9.5",
      "mimetype": "text/x-python",
      "codemirror_mode": {
        "name": "ipython",
        "version": 3
      },
      "pygments_lexer": "ipython3",
      "nbconvert_exporter": "python",
      "file_extension": ".py"
    },
    "interpreter": {
      "hash": "d2117e400053dd08b8c325c488bfb500d89dba35e3a1d635cced305f2b8c629f"
    }
  },
  "cells": [
    {
      "cell_type": "code",
      "execution_count": null,
      "source": [
        "from bs4 import BeautifulSoup\r\n",
        "import requests\r\n",
        "import smtplib\r\n",
        "import time\r\n",
        "import datetime\r\n",
        "import pandas as pd\r\n",
        "import csv"
      ],
      "outputs": [],
      "metadata": {
        "id": "zLZ6fAEq0ZKU"
      }
    },
    {
      "cell_type": "code",
      "execution_count": null,
      "source": [
        "original_price = {}"
      ],
      "outputs": [],
      "metadata": {}
    },
    {
      "cell_type": "code",
      "execution_count": null,
      "source": [
        "def get_details(URL):\r\n",
        "    headers = {\"User-Agent\": \"Mozilla/5.0 (Windows NT 10.0; Win64; x64) AppleWebKit/537.36 (KHTML, like Gecko) Chrome/93.0.4577.63 Safari/537.36\"} \r\n",
        "    page_html = requests.get(URL , headers=headers)\r\n",
        "    page = BeautifulSoup(page_html.content, \"html.parser\")\r\n",
        "\r\n",
        "    title = page.find(\"span\", {\"id\": \"productTitle\"}).get_text()\r\n",
        "    price = page.find(\"span\", {\"id\": \"priceblock_ourprice\"}).get_text()\r\n",
        "    rating = page.find(id='acrPopover').get_text()\r\n",
        "    details = page.find(class_='a-normal a-spacing-micro').get_text()\r\n",
        "    bank_offer = page.find(class_='description').get_text()\r\n",
        "    img = page.find_all(\"img\", class_ = \"a-dynamic-image a-stretch-vertical\")[0][\"src\"]\r\n",
        "\r\n",
        "    title = title.strip()\r\n",
        "    price= price.strip()\r\n",
        "    price = price.replace('₹', '')\r\n",
        "    price = price.replace(',', '')\r\n",
        "    price = price.replace('.', '')\r\n",
        "    price = price[:-2]\r\n",
        "    rating = rating.strip()[:3]\r\n",
        "    details = details.strip().replace('\\n', '\\t')\r\n",
        "    bank_offer = bank_offer.strip()\r\n",
        "    img = img.strip()\r\n",
        "\r\n",
        "    print(title)\r\n",
        "    print(price)\r\n",
        "    print(rating)\r\n",
        "    print(details)\r\n",
        "    print(bank_offer)\r\n",
        "    print(img)\r\n",
        "    today = datetime.date.today()\r\n",
        "    global original_price\r\n",
        "    original_price[title] = int(price)\r\n",
        "    \r\n",
        "    return [title, price, today, rating, details, bank_offer, img]"
      ],
      "outputs": [],
      "metadata": {}
    },
    {
      "cell_type": "code",
      "execution_count": null,
      "source": [
        "URL1 = 'https://www.amazon.in/JBL-Portable-Waterproof-Bluetooth-Champagne/dp/B081JZT5F6/?_encoding=UTF8&pd_rd_w=1NpvK&pf_rd_p=f162e864-1910-44b8-be2f-51a3819521a4&pf_rd_r=PRP996FKX3Q49F8ZHM38&pd_rd_r=8462549d-9cc1-43a7-9a37-427be48e60a0&pd_rd_wg=PGt7J&ref_=pd_gw_unk&th=1'\r\n",
        "\r\n",
        "URL2 = 'https://www.amazon.in/Prisha-India-Craft-Copper-Bottle/dp/B06XJRDYMT/ref=sr_1_1?dchild=1&keywords=water+bottle&nav_sdd=aps&pd_rd_r=d7e32361-0b3c-4323-9f4a-36fbc22e0077&pd_rd_w=mEv1s&pd_rd_wg=Y62ge&pf_rd_p=39adf3af-15d6-4b91-9571-393f1f6517ef&pf_rd_r=QCHB828P4C6VJ5MKY6AH&qid=1631037777&refinements=p_36%3A3444813031&s=kitchen&sr=1-1'\r\n",
        "\r\n",
        "URL3 = \"https://www.amazon.in/Apple-MacBook-16-inch-Storage-2-3GHz/dp/B081JWZSSX/ref=sr_1_3?dchild=1&keywords=macbook+pro+16&qid=1631040132&sr=8-3\"\r\n",
        "\r\n",
        "URL4 = \"https://www.amazon.in/Solimo-Three-Seater-Recliner-Brown/dp/B07FKKC81K/ref=sr_1_9?crid=15ZT74UG3V1ML&dchild=1&keywords=recliner+sofa&qid=1631040243&sprefix=recline%2Caps%2C318&sr=8-9\"\r\n",
        "\r\n",
        "URL5 = \"https://www.amazon.in/Black-DrinkMate-Carbonated-Maker-Cylinder/dp/B018K1C3KK/ref=sr_1_3?dchild=1&keywords=soda+maker&qid=1631040304&sr=8-3\"\r\n",
        "\r\n",
        "speaker = get_details(URL1)\r\n",
        "bottle = get_details(URL2)\r\n",
        "macbook = get_details(URL3)\r\n",
        "recliner = get_details(URL4)\r\n",
        "sodamaker = get_details(URL5)"
      ],
      "outputs": [],
      "metadata": {}
    },
    {
      "cell_type": "code",
      "execution_count": null,
      "source": [
        "headers = ['product', 'price', 'date', 'rating', 'details', 'bank_offer', 'img']\r\n",
        "\r\n",
        "with open('Amazon_Web_Scraper_Project.csv', 'w', newline='', encoding='UTF8') as f:\r\n",
        "  writer = csv.writer(f)\r\n",
        "  writer.writerow(headers)\r\n",
        "  writer.writerow(speaker)\r\n",
        "  writer.writerow(bottle)\r\n",
        "  writer.writerow(macbook)\r\n",
        "  writer.writerow(recliner)\r\n",
        "  writer.writerow(sodamaker)"
      ],
      "outputs": [],
      "metadata": {
        "id": "lyOrDTT_9okQ"
      }
    },
    {
      "cell_type": "code",
      "execution_count": null,
      "source": [
        "def send_mail(name, url):\r\n",
        "    subject = f\"The {name} you wanted so bad is now under the price you want.\"\r\n",
        "    body = f\"Dear Customer, this is the opportunity of a lifetime. Don't mess it up! Link here: {url}\"\r\n",
        "   \r\n",
        "    msg = f\"Subject: {subject}\\n\\n{body}\"\r\n",
        "    server = smtplib.SMTP_SSL('smtp.gmail.com',465)\r\n",
        "    server.ehlo()\r\n",
        "    #server.starttls()\r\n",
        "    server.ehlo()\r\n",
        "    server.login('isomerx2@gmail.com','fruits123')   \r\n",
        "    server.sendmail('isomerx2@gmail.com', 'sanyajolly7@gmail.com', msg)"
      ],
      "outputs": [],
      "metadata": {}
    },
    {
      "cell_type": "code",
      "execution_count": null,
      "source": [
        "def check_price(URL, multiplier):\r\n",
        "  global original_price\r\n",
        "  product = get_details(URL)\r\n",
        "\r\n",
        "\r\n",
        "  if int(product[1]) <= original_price[product[0]]*multiplier:\r\n",
        "    print(original_price)\r\n",
        "    send_mail(product[0], URL)\r\n",
        "  \r\n",
        "  with open('Amazon_Web_Scraper_Project.csv', 'a+', newline='', encoding='UTF8') as f:\r\n",
        "    writer = csv.writer(f)\r\n",
        "    writer.writerow(product)"
      ],
      "outputs": [],
      "metadata": {
        "id": "H8MT_3-_G8nD"
      }
    },
    {
      "cell_type": "code",
      "execution_count": null,
      "source": [
        "while(True):\r\n",
        "  check_price(URL1, 0.5)\r\n",
        "  time.sleep(120)"
      ],
      "outputs": [],
      "metadata": {
        "id": "HycQJVqLIRfP"
      }
    }
  ]
}